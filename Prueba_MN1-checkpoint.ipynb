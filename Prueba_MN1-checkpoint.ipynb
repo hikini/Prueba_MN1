{
 "cells": [
  {
   "cell_type": "markdown",
   "metadata": {},
   "source": [
    "#Prueba de Metodo de la Bisección"
   ]
  },
  {
   "cell_type": "code",
   "execution_count": 5,
   "metadata": {},
   "outputs": [
    {
     "data": {
      "text/html": [
       "<div class=\"notruncate\">\n",
       "<table  class=\"table_form\">\n",
       "<tbody>\n",
       "<tr>\n",
       "<th><script type=\"math/tex\">n</script></th>\n",
       "<th><script type=\"math/tex\">x_n</script></th>\n",
       "<th><script type=\"math/tex\">f(x_n)</script></th>\n",
       "</tr>\n",
       "<tr class =\"row-a\">\n",
       "<td><script type=\"math/tex\">0</script></td>\n",
       "<td><script type=\"math/tex\">1.000</script></td>\n",
       "<td><script type=\"math/tex\">1.658</script></td>\n",
       "</tr>\n",
       "<tr class =\"row-b\">\n",
       "<td><script type=\"math/tex\">1</script></td>\n",
       "<td><script type=\"math/tex\">1.658</script></td>\n",
       "<td><script type=\"math/tex\">1.801</script></td>\n",
       "</tr>\n",
       "<tr class =\"row-a\">\n",
       "<td><script type=\"math/tex\">2</script></td>\n",
       "<td><script type=\"math/tex\">1.801</script></td>\n",
       "<td><script type=\"math/tex\">1.831</script></td>\n",
       "</tr>\n",
       "<tr class =\"row-b\">\n",
       "<td><script type=\"math/tex\">3</script></td>\n",
       "<td><script type=\"math/tex\">1.831</script></td>\n",
       "<td><script type=\"math/tex\">1.837</script></td>\n",
       "</tr>\n",
       "<tr class =\"row-a\">\n",
       "<td><script type=\"math/tex\">4</script></td>\n",
       "<td><script type=\"math/tex\">1.837</script></td>\n",
       "<td><script type=\"math/tex\">1.838</script></td>\n",
       "</tr>\n",
       "<tr class =\"row-b\">\n",
       "<td><script type=\"math/tex\">5</script></td>\n",
       "<td><script type=\"math/tex\">1.838</script></td>\n",
       "<td><script type=\"math/tex\">1.838</script></td>\n",
       "</tr>\n",
       "<tr class =\"row-a\">\n",
       "<td><script type=\"math/tex\">6</script></td>\n",
       "<td><script type=\"math/tex\">1.838</script></td>\n",
       "<td><script type=\"math/tex\">1.838</script></td>\n",
       "</tr>\n",
       "<tr class =\"row-b\">\n",
       "<td><script type=\"math/tex\">7</script></td>\n",
       "<td><script type=\"math/tex\">1.838</script></td>\n",
       "<td><script type=\"math/tex\">1.838</script></td>\n",
       "</tr>\n",
       "<tr class =\"row-a\">\n",
       "<td><script type=\"math/tex\">8</script></td>\n",
       "<td><script type=\"math/tex\">1.838</script></td>\n",
       "<td><script type=\"math/tex\">1.838</script></td>\n",
       "</tr>\n",
       "<tr class =\"row-b\">\n",
       "<td><script type=\"math/tex\">9</script></td>\n",
       "<td><script type=\"math/tex\">1.838</script></td>\n",
       "<td><script type=\"math/tex\">1.838</script></td>\n",
       "</tr>\n",
       "<tr class =\"row-a\">\n",
       "<td><script type=\"math/tex\">10</script></td>\n",
       "<td><script type=\"math/tex\">1.838</script></td>\n",
       "<td><script type=\"math/tex\">1.838</script></td>\n",
       "</tr>\n",
       "<tr class =\"row-b\">\n",
       "<td><script type=\"math/tex\">11</script></td>\n",
       "<td><script type=\"math/tex\">1.838</script></td>\n",
       "<td><script type=\"math/tex\">1.838</script></td>\n",
       "</tr>\n",
       "<tr class =\"row-a\">\n",
       "<td><script type=\"math/tex\">12</script></td>\n",
       "<td><script type=\"math/tex\">1.838</script></td>\n",
       "<td><script type=\"math/tex\">1.838</script></td>\n",
       "</tr>\n",
       "<tr class =\"row-b\">\n",
       "<td><script type=\"math/tex\">13</script></td>\n",
       "<td><script type=\"math/tex\">1.838</script></td>\n",
       "<td><script type=\"math/tex\">1.838</script></td>\n",
       "</tr>\n",
       "<tr class =\"row-a\">\n",
       "<td><script type=\"math/tex\">14</script></td>\n",
       "<td><script type=\"math/tex\">1.838</script></td>\n",
       "<td><script type=\"math/tex\">1.838</script></td>\n",
       "</tr>\n",
       "<tr class =\"row-b\">\n",
       "<td><script type=\"math/tex\">15</script></td>\n",
       "<td><script type=\"math/tex\">1.838</script></td>\n",
       "<td><script type=\"math/tex\">1.838</script></td>\n",
       "</tr>\n",
       "</tbody>\n",
       "</table>\n",
       "</div>"
      ],
      "text/plain": [
       "  $n$   $x_n$   $f(x_n)$\n",
       "+-----+-------+----------+\n",
       "  0     1.000   1.658\n",
       "  1     1.658   1.801\n",
       "  2     1.801   1.831\n",
       "  3     1.831   1.837\n",
       "  4     1.837   1.838\n",
       "  5     1.838   1.838\n",
       "  6     1.838   1.838\n",
       "  7     1.838   1.838\n",
       "  8     1.838   1.838\n",
       "  9     1.838   1.838\n",
       "  10    1.838   1.838\n",
       "  11    1.838   1.838\n",
       "  12    1.838   1.838\n",
       "  13    1.838   1.838\n",
       "  14    1.838   1.838\n",
       "  15    1.838   1.838"
      ]
     },
     "execution_count": 5,
     "metadata": {},
     "output_type": "execute_result"
    }
   ],
   "source": [
    "# Datos de entrada\n",
    "x = var('x'); f = function('f')(x)\n",
    "f(x) = ((3*x+8)/4)^(1/2)     #Cambiamos la funcion de entrada\n",
    "x0=1                 #Valor inicial para los cálculos  \n",
    "#Definición de la función de recursión\n",
    "def u(n):\n",
    "    if n==0:\n",
    "        return x0\n",
    "    else:\n",
    "        return f(u(n-1))\n",
    "table([(x,n(u(x), digits=4),n(u(x+1), digits=4)) for x in [0..15]], header_row=[\"$n$\", \"$x_n$\",\"$f(x_n)$\"])"
   ]
  },
  {
   "cell_type": "code",
   "execution_count": null,
   "metadata": {},
   "outputs": [],
   "source": []
  },
  {
   "cell_type": "code",
   "execution_count": null,
   "metadata": {},
   "outputs": [],
   "source": []
  }
 ],
 "metadata": {
  "kernelspec": {
   "display_name": "SageMath 9.0",
   "language": "sage",
   "name": "sagemath"
  },
  "language_info": {
   "codemirror_mode": {
    "name": "ipython",
    "version": 3
   },
   "file_extension": ".py",
   "mimetype": "text/x-python",
   "name": "python",
   "nbconvert_exporter": "python",
   "pygments_lexer": "ipython3",
   "version": "3.8.2"
  },
  "widgets": {
   "application/vnd.jupyter.widget-state+json": {
    "state": {},
    "version_major": 1,
    "version_minor": 0
   }
  }
 },
 "nbformat": 4,
 "nbformat_minor": 4
}
