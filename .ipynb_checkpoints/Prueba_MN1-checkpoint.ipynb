{
 "cells": [
  {
   "cell_type": "markdown",
   "metadata": {},
   "source": [
    "#Prueba de Metodo de la Bisección"
   ]
  },
  {
   "cell_type": "code",
   "execution_count": 1,
   "metadata": {
    "scrolled": true
   },
   "outputs": [
    {
     "data": {
      "text/html": [
       "<div class=\"notruncate\">\n",
       "<table  class=\"table_form\">\n",
       "<tbody>\n",
       "<tr>\n",
       "<th><script type=\"math/tex\">n</script></th>\n",
       "<th><script type=\"math/tex\">x_n</script></th>\n",
       "<th><script type=\"math/tex\">f(x_n)</script></th>\n",
       "</tr>\n",
       "<tr class =\"row-a\">\n",
       "<td><script type=\"math/tex\">0</script></td>\n",
       "<td><script type=\"math/tex\">1.000</script></td>\n",
       "<td><script type=\"math/tex\">1.254</script></td>\n",
       "</tr>\n",
       "<tr class =\"row-b\">\n",
       "<td><script type=\"math/tex\">1</script></td>\n",
       "<td><script type=\"math/tex\">1.254</script></td>\n",
       "<td><script type=\"math/tex\">1.296</script></td>\n",
       "</tr>\n",
       "<tr class =\"row-a\">\n",
       "<td><script type=\"math/tex\">2</script></td>\n",
       "<td><script type=\"math/tex\">1.296</script></td>\n",
       "<td><script type=\"math/tex\">1.303</script></td>\n",
       "</tr>\n",
       "<tr class =\"row-b\">\n",
       "<td><script type=\"math/tex\">3</script></td>\n",
       "<td><script type=\"math/tex\">1.303</script></td>\n",
       "<td><script type=\"math/tex\">1.304</script></td>\n",
       "</tr>\n",
       "<tr class =\"row-a\">\n",
       "<td><script type=\"math/tex\">4</script></td>\n",
       "<td><script type=\"math/tex\">1.304</script></td>\n",
       "<td><script type=\"math/tex\">1.305</script></td>\n",
       "</tr>\n",
       "<tr class =\"row-b\">\n",
       "<td><script type=\"math/tex\">5</script></td>\n",
       "<td><script type=\"math/tex\">1.305</script></td>\n",
       "<td><script type=\"math/tex\">1.305</script></td>\n",
       "</tr>\n",
       "<tr class =\"row-a\">\n",
       "<td><script type=\"math/tex\">6</script></td>\n",
       "<td><script type=\"math/tex\">1.305</script></td>\n",
       "<td><script type=\"math/tex\">1.305</script></td>\n",
       "</tr>\n",
       "<tr class =\"row-b\">\n",
       "<td><script type=\"math/tex\">7</script></td>\n",
       "<td><script type=\"math/tex\">1.305</script></td>\n",
       "<td><script type=\"math/tex\">1.305</script></td>\n",
       "</tr>\n",
       "<tr class =\"row-a\">\n",
       "<td><script type=\"math/tex\">8</script></td>\n",
       "<td><script type=\"math/tex\">1.305</script></td>\n",
       "<td><script type=\"math/tex\">1.305</script></td>\n",
       "</tr>\n",
       "<tr class =\"row-b\">\n",
       "<td><script type=\"math/tex\">9</script></td>\n",
       "<td><script type=\"math/tex\">1.305</script></td>\n",
       "<td><script type=\"math/tex\">1.305</script></td>\n",
       "</tr>\n",
       "<tr class =\"row-a\">\n",
       "<td><script type=\"math/tex\">10</script></td>\n",
       "<td><script type=\"math/tex\">1.305</script></td>\n",
       "<td><script type=\"math/tex\">1.305</script></td>\n",
       "</tr>\n",
       "<tr class =\"row-b\">\n",
       "<td><script type=\"math/tex\">11</script></td>\n",
       "<td><script type=\"math/tex\">1.305</script></td>\n",
       "<td><script type=\"math/tex\">1.305</script></td>\n",
       "</tr>\n",
       "<tr class =\"row-a\">\n",
       "<td><script type=\"math/tex\">12</script></td>\n",
       "<td><script type=\"math/tex\">1.305</script></td>\n",
       "<td><script type=\"math/tex\">1.305</script></td>\n",
       "</tr>\n",
       "<tr class =\"row-b\">\n",
       "<td><script type=\"math/tex\">13</script></td>\n",
       "<td><script type=\"math/tex\">1.305</script></td>\n",
       "<td><script type=\"math/tex\">1.305</script></td>\n",
       "</tr>\n",
       "<tr class =\"row-a\">\n",
       "<td><script type=\"math/tex\">14</script></td>\n",
       "<td><script type=\"math/tex\">1.305</script></td>\n",
       "<td><script type=\"math/tex\">1.305</script></td>\n",
       "</tr>\n",
       "<tr class =\"row-b\">\n",
       "<td><script type=\"math/tex\">15</script></td>\n",
       "<td><script type=\"math/tex\">1.305</script></td>\n",
       "<td><script type=\"math/tex\">1.305</script></td>\n",
       "</tr>\n",
       "</tbody>\n",
       "</table>\n",
       "</div>"
      ],
      "text/plain": [
       "  $n$   $x_n$   $f(x_n)$\n",
       "+-----+-------+----------+\n",
       "  0     1.000   1.254\n",
       "  1     1.254   1.296\n",
       "  2     1.296   1.303\n",
       "  3     1.303   1.304\n",
       "  4     1.304   1.305\n",
       "  5     1.305   1.305\n",
       "  6     1.305   1.305\n",
       "  7     1.305   1.305\n",
       "  8     1.305   1.305\n",
       "  9     1.305   1.305\n",
       "  10    1.305   1.305\n",
       "  11    1.305   1.305\n",
       "  12    1.305   1.305\n",
       "  13    1.305   1.305\n",
       "  14    1.305   1.305\n",
       "  15    1.305   1.305"
      ]
     },
     "execution_count": 1,
     "metadata": {},
     "output_type": "execute_result"
    }
   ],
   "source": [
    "# Datos de entrada\n",
    "x = var('x'); f = function('f')(x)\n",
    "f(x) = ((3*x+8)/7)^(1/2)     #Cambiamos la funcion de entrada\n",
    "x0=1                 #Valor inicial para los cálculos  \n",
    "#Definición de la función de recursión\n",
    "def u(n):\n",
    "    if n==0:\n",
    "        return x0\n",
    "    else:\n",
    "        return f(u(n-1))\n",
    "table([(x,n(u(x), digits=4),n(u(x+1), digits=4)) for x in [0..15]], header_row=[\"$n$\", \"$x_n$\",\"$f(x_n)$\"])"
   ]
  },
  {
   "cell_type": "code",
   "execution_count": null,
   "metadata": {},
   "outputs": [],
   "source": []
  }
 ],
 "metadata": {
  "kernelspec": {
   "display_name": "SageMath 9.0",
   "language": "sage",
   "name": "sagemath"
  },
  "language_info": {
   "codemirror_mode": {
    "name": "ipython",
    "version": 3
   },
   "file_extension": ".py",
   "mimetype": "text/x-python",
   "name": "python",
   "nbconvert_exporter": "python",
   "pygments_lexer": "ipython3",
   "version": "3.8.2"
  },
  "widgets": {
   "application/vnd.jupyter.widget-state+json": {
    "state": {},
    "version_major": 1,
    "version_minor": 0
   }
  }
 },
 "nbformat": 4,
 "nbformat_minor": 4
}
