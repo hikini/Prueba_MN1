{
 "cells": [
  {
   "cell_type": "markdown",
   "metadata": {},
   "source": [
    "#Prueba de Metodo de la Bisección"
   ]
  },
  {
   "cell_type": "code",
   "execution_count": null,
   "metadata": {
    "scrolled": true
   },
   "outputs": [],
   "source": [
    "# Datos de entrada\n",
    "x = var('x'); f = function('f')(x)\n",
    "f(x) = ((3*x+8)/2)^(1/2)     #Cambiamos la funcion de entrada\n",
    "x0=1                 #Valor inicial para los cálculos  \n",
    "#Definición de la función de recursión\n",
    "def u(n):\n",
    "    if n==0:\n",
    "        return x0\n",
    "    else:\n",
    "        return f(u(n-1))\n",
    "table([(x,n(u(x), digits=4),n(u(x+1), digits=4)) for x in [0..15]], header_row=[\"$n$\", \"$x_n$\",\"$f(x_n)$\"])"
   ]
  },
  {
   "cell_type": "code",
   "execution_count": null,
   "metadata": {},
   "outputs": [],
   "source": []
  }
 ],
 "metadata": {
  "kernelspec": {
   "display_name": "SageMath 9.0",
   "language": "sage",
   "name": "sagemath"
  },
  "language_info": {
   "codemirror_mode": {
    "name": "ipython",
    "version": 3
   },
   "file_extension": ".py",
   "mimetype": "text/x-python",
   "name": "python",
   "nbconvert_exporter": "python",
   "pygments_lexer": "ipython3",
   "version": "3.8.2"
  },
  "widgets": {
   "application/vnd.jupyter.widget-state+json": {
    "state": {},
    "version_major": 1,
    "version_minor": 0
   }
  }
 },
 "nbformat": 4,
 "nbformat_minor": 4
}
